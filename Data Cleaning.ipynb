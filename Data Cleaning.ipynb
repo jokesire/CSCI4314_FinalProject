{
 "cells": [
  {
   "cell_type": "code",
   "execution_count": 1,
   "metadata": {},
   "outputs": [],
   "source": [
    "import numpy as np\n",
    "import pickle\n",
    "import math\n",
    "import sys"
   ]
  },
  {
   "cell_type": "code",
   "execution_count": 2,
   "metadata": {},
   "outputs": [],
   "source": [
    "genome_length = 0\n",
    "with open(\"genome_efull.txt\", 'r') as f:\n",
    "    for line in f.readlines():\n",
    "        genome_length = genome_length + len(line)"
   ]
  },
  {
   "cell_type": "code",
   "execution_count": 3,
   "metadata": {},
   "outputs": [],
   "source": [
    "genome_length = 4707977"
   ]
  },
  {
   "cell_type": "code",
   "execution_count": 4,
   "metadata": {},
   "outputs": [],
   "source": [
    "promoters= []\n",
    "line_number = 0\n",
    "with open(\"All_promoters_of_E._coli_K-12_substr._MG1655.txt\",'r') as f:\n",
    "    for line in f.readlines():\n",
    "        line = line.strip()\n",
    "        if line_number != 0 and line != '':\n",
    "            promoter = int(line)\n",
    "            promoters.append(promoter)\n",
    "        line_number += 1\n",
    "promoters.sort()"
   ]
  },
  {
   "cell_type": "code",
   "execution_count": 5,
   "metadata": {},
   "outputs": [],
   "source": [
    "with open(\"promoter_positions.list\", 'wb') as f:\n",
    "    pickle.dump(promoters,f)"
   ]
  },
  {
   "cell_type": "code",
   "execution_count": 6,
   "metadata": {},
   "outputs": [
    {
     "name": "stdout",
     "output_type": "stream",
     "text": [
      "3774\n"
     ]
    }
   ],
   "source": [
    "print(len(promoters))"
   ]
  },
  {
   "cell_type": "code",
   "execution_count": 7,
   "metadata": {},
   "outputs": [],
   "source": [
    "def promSeq_dict(promoters,a,b,genome_length = 4707977):\n",
    "    promoter_dict = {}\n",
    "    for pos in promoters:\n",
    "        min_range = pos-a\n",
    "        max_range = pos+b\n",
    "        if min_range < 0:\n",
    "            min_range = 0\n",
    "        if max_range > genome_length:\n",
    "            max_range = genome_length\n",
    "        promoter_dict[pos] = (min_range,max_range)\n",
    "    return(promoter_dict)"
   ]
  },
  {
   "cell_type": "code",
   "execution_count": 8,
   "metadata": {},
   "outputs": [],
   "source": [
    "a = 150\n",
    "b = 300\n",
    "promoter_rangeDictionary = promSeq_dict(promoters,a,b)"
   ]
  },
  {
   "cell_type": "code",
   "execution_count": 9,
   "metadata": {},
   "outputs": [],
   "source": [
    "with open(\"promoterRanges_150-300.dict\", 'wb') as f:\n",
    "    pickle.dump(promoter_rangeDictionary,f)"
   ]
  },
  {
   "cell_type": "code",
   "execution_count": 10,
   "metadata": {},
   "outputs": [],
   "source": [
    "def gen_nonPromDict(promoter_dict,a,b,n,genome_length = 4707977):\n",
    "    min_position = a-1\n",
    "    max_position = genome_length-b\n",
    "    nonProm_rangeDict = {}\n",
    "    num_seqs = 0\n",
    "    while num_seqs < n:\n",
    "        position = np.random.randint(min_position,max_position)\n",
    "        min_range = position-a\n",
    "        max_range = position+b\n",
    "        key_list = np.array(list(promoter_dict.keys()))\n",
    "        key = np.argmax(key_list >= position)\n",
    "        if key >= 1:\n",
    "            min_key = key_list[key-1]\n",
    "            max_key = key_list[key]\n",
    "            val1 = promoter_dict[min_key][1]\n",
    "            val2 = promoter_dict[max_key][0]\n",
    "            if (val1 < min_range) and (val2 > max_range):\n",
    "                nonProm_rangeDict[position] = (min_range,max_range)\n",
    "                promoter_dict[position] = (min_range,max_range)\n",
    "                num_seqs = num_seqs + 1\n",
    "                out_string = \"Added in non-promoter sequence at pos = {}. Length = {} \\r\".format(position,num_seqs)\n",
    "                sys.stdout.write(out_string)\n",
    "                sys.stdout.flush()\n",
    "        \n",
    "    return(nonProm_rangeDict)"
   ]
  },
  {
   "cell_type": "code",
   "execution_count": 11,
   "metadata": {},
   "outputs": [
    {
     "name": "stdout",
     "output_type": "stream",
     "text": [
      "Added in non-promoter sequence at pos = 111887. Length = 5000  \r"
     ]
    }
   ],
   "source": [
    "nonProm_rangeDict = gen_nonPromDict(promoter_rangeDictionary,a,b,5000)"
   ]
  },
  {
   "cell_type": "code",
   "execution_count": 12,
   "metadata": {},
   "outputs": [],
   "source": [
    "with open(\"nonPromotersDict_150-300.dict\", 'wb') as f:\n",
    "    pickle.dump(nonProm_rangeDict,f)"
   ]
  },
  {
   "cell_type": "code",
   "execution_count": 13,
   "metadata": {},
   "outputs": [
    {
     "name": "stdout",
     "output_type": "stream",
     "text": [
      "Added in non-promoter sequence at pos = 3417145. Length = 5000 \r"
     ]
    }
   ],
   "source": [
    "a = 200\n",
    "b = 400\n",
    "promoter_rangeDictionary = promSeq_dict(promoters,a,b)\n",
    "nonProm_rangeDict = gen_nonPromDict(promoter_rangeDictionary,a,b,5000)\n",
    "save_string1 = \"promoterRanges_{}-{}.dict\".format(a,b)\n",
    "save_string2 = \"nonPromotersDict_{}-{}.dict\".format(a,b)"
   ]
  },
  {
   "cell_type": "code",
   "execution_count": 15,
   "metadata": {},
   "outputs": [],
   "source": [
    "with open(save_string1, 'wb') as f:\n",
    "    pickle.dump(promoter_rangeDictionary,f)\n",
    "with open(save_string2, 'wb') as f:\n",
    "    pickle.dump(nonProm_rangeDict,f)"
   ]
  },
  {
   "cell_type": "code",
   "execution_count": null,
   "metadata": {},
   "outputs": [],
   "source": []
  }
 ],
 "metadata": {
  "kernelspec": {
   "display_name": "Python 3",
   "language": "python",
   "name": "python3"
  },
  "language_info": {
   "codemirror_mode": {
    "name": "ipython",
    "version": 3
   },
   "file_extension": ".py",
   "mimetype": "text/x-python",
   "name": "python",
   "nbconvert_exporter": "python",
   "pygments_lexer": "ipython3",
   "version": "3.7.3"
  }
 },
 "nbformat": 4,
 "nbformat_minor": 2
}
