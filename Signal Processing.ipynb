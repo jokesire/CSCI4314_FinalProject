{
 "cells": [
  {
   "cell_type": "markdown",
   "metadata": {},
   "source": [
    "Setup"
   ]
  },
  {
   "cell_type": "code",
   "execution_count": 1,
   "metadata": {},
   "outputs": [],
   "source": [
    "import numpy as np\n",
    "import matplotlib.pyplot as plt\n",
    "import sys\n",
    "import pickle\n",
    "from scipy.signal import periodogram\n",
    "from math import floor\n",
    "import pandas as pd"
   ]
  },
  {
   "cell_type": "code",
   "execution_count": 2,
   "metadata": {},
   "outputs": [],
   "source": [
    "with open(\"promoterRanges_200-400.dict\", 'rb') as f:\n",
    "    promoter_ranges = pickle.load(f)\n",
    "with open(\"nonPromotersDict_200-400.dict\", 'rb') as f:\n",
    "    non_promoter_ranges = pickle.load(f)"
   ]
  },
  {
   "cell_type": "code",
   "execution_count": 3,
   "metadata": {},
   "outputs": [],
   "source": [
    "genome_file = 'genome_efull.txt'\n",
    "genome = ''\n",
    "with open(genome_file,'r') as f:\n",
    "    for f in f.readlines():\n",
    "        f = f.strip('\\n')\n",
    "        genome = genome+f"
   ]
  },
  {
   "cell_type": "code",
   "execution_count": 4,
   "metadata": {},
   "outputs": [],
   "source": [
    "def get_strings(dictionary,genome):\n",
    "    seqs = []\n",
    "    for key in dictionary.keys():\n",
    "        start,end = dictionary[key]\n",
    "        seq = genome[start:end]\n",
    "        seqs.append(seq)\n",
    "    return(seqs)"
   ]
  },
  {
   "cell_type": "markdown",
   "metadata": {},
   "source": [
    "CGR Signal Processing"
   ]
  },
  {
   "cell_type": "code",
   "execution_count": 5,
   "metadata": {},
   "outputs": [],
   "source": [
    "def cgr_genome(genome,verbose = False):\n",
    "    corner_dict = {'a': np.array([-1,-1]), 'c': np.array([-1,1]),\n",
    "                   'g': np.array([1,1]), 't': np.array([1,-1])}\n",
    "    genome = genome.lower()\n",
    "    xpos = [0]\n",
    "    ypos = [0]\n",
    "    curr_pos = np.array([0.5,0.5])\n",
    "    for i,gene in enumerate(genome):\n",
    "        vert = corner_dict[gene]\n",
    "        diff = vert-curr_pos\n",
    "        diff = diff/2\n",
    "        curr_pos = curr_pos + diff\n",
    "        xpos.append(curr_pos[0])\n",
    "        ypos.append(curr_pos[1])\n",
    "        if verbose:\n",
    "            if i%100 == 0:\n",
    "                out_string = 'Progress: {}/{} \\r'.format(i+1,len(genome))\n",
    "                sys.stdout.write(out_string)\n",
    "                sys.stdout.flush()\n",
    "    return(xpos,ypos)\n",
    "    "
   ]
  },
  {
   "cell_type": "code",
   "execution_count": 6,
   "metadata": {},
   "outputs": [],
   "source": [
    "promoter_seqs = get_strings(promoter_ranges,genome)"
   ]
  },
  {
   "cell_type": "code",
   "execution_count": 7,
   "metadata": {},
   "outputs": [],
   "source": [
    "nonpromoter_seqs = get_strings(non_promoter_ranges,genome)"
   ]
  },
  {
   "cell_type": "code",
   "execution_count": 8,
   "metadata": {},
   "outputs": [],
   "source": [
    "x_prom = []\n",
    "y_prom = []\n",
    "for seq in promoter_seqs:\n",
    "    x_pos,y_pos = cgr_genome(seq)\n",
    "    x_prom.append(x_pos)\n",
    "    y_prom.append(y_pos)"
   ]
  },
  {
   "cell_type": "code",
   "execution_count": 9,
   "metadata": {},
   "outputs": [],
   "source": [
    "x_nonprom = []\n",
    "y_nonprom = []\n",
    "for seq in nonpromoter_seqs:\n",
    "    x_pos,y_pos = cgr_genome(seq)\n",
    "    x_nonprom.append(x_pos)\n",
    "    y_nonprom.append(y_pos)"
   ]
  },
  {
   "cell_type": "code",
   "execution_count": 10,
   "metadata": {},
   "outputs": [],
   "source": [
    "def extract_freq(data, num_feats = 5):\n",
    "    feats = []\n",
    "    for row in data:\n",
    "        feat = []\n",
    "        for d in row:\n",
    "            n = len(d)\n",
    "            val = np.fft.fft(d)\n",
    "            val = val/n\n",
    "            freq = np.fft.fftfreq(n,1)\n",
    "            M = int(n/2)\n",
    "            val = np.abs(val[:M])\n",
    "            freq = freq[:M]\n",
    "            sort_ind = np.argsort(val)\n",
    "            for i in range(num_feats):\n",
    "                feat.append(freq[sort_ind[i]])\n",
    "                feat.append(val[sort_ind[i]])\n",
    "        feats.append(feat)\n",
    "    return(feats)\n",
    "        "
   ]
  },
  {
   "cell_type": "code",
   "execution_count": 11,
   "metadata": {},
   "outputs": [],
   "source": [
    "data = []\n",
    "labels = []\n",
    "for (x,y) in zip(x_prom,y_prom):\n",
    "    data.append((x,y))\n",
    "    labels.append(1)\n",
    "for (x,y) in zip(x_nonprom,y_nonprom):\n",
    "    data.append((x,y))\n",
    "    labels.append(0)\n",
    "features = extract_freq(data)"
   ]
  },
  {
   "cell_type": "code",
   "execution_count": 20,
   "metadata": {},
   "outputs": [],
   "source": [
    "with open('tuple_data.tup', 'wb') as f:\n",
    "    pickle.dump((features,labels), f)"
   ]
  },
  {
   "cell_type": "code",
   "execution_count": 12,
   "metadata": {},
   "outputs": [],
   "source": [
    "import nolds as nds"
   ]
  },
  {
   "cell_type": "code",
   "execution_count": 29,
   "metadata": {},
   "outputs": [],
   "source": [
    "example = [[x,y] for (x,y) in zip(x_prom[0],y_prom[0])]\n",
    "ly = nds.lyap_e(x_nonprom[1])"
   ]
  },
  {
   "cell_type": "code",
   "execution_count": 30,
   "metadata": {},
   "outputs": [
    {
     "name": "stdout",
     "output_type": "stream",
     "text": [
      "[ 0.10083786  0.00761901 -0.08594161 -0.22792792]\n"
     ]
    }
   ],
   "source": [
    "print(ly)"
   ]
  },
  {
   "cell_type": "markdown",
   "metadata": {},
   "source": [
    "Metric Dimension Signal Processing"
   ]
  },
  {
   "cell_type": "code",
   "execution_count": 13,
   "metadata": {},
   "outputs": [],
   "source": [
    "R = ['00000','11301','02020','31100','11200','02010','11330','31000','00002','11303']\n",
    "alphabet = {'0': 'A', '1':'C', '2':'T', '3':'G'}\n",
    "decoded_R = []\n",
    "for r in R:\n",
    "    decoded_r = ''\n",
    "    for c in r:\n",
    "        new_c = alphabet[c]\n",
    "        decoded_r = decoded_r+new_c\n",
    "    decoded_R.append(decoded_r)"
   ]
  },
  {
   "cell_type": "code",
   "execution_count": 14,
   "metadata": {},
   "outputs": [
    {
     "name": "stdout",
     "output_type": "stream",
     "text": [
      "['AAAAA', 'CCGAC', 'ATATA', 'GCCAA', 'CCTAA', 'ATACA', 'CCGGA', 'GCAAA', 'AAAAT', 'CCGAG']\n"
     ]
    }
   ],
   "source": [
    "print(decoded_R)"
   ]
  },
  {
   "cell_type": "code",
   "execution_count": null,
   "metadata": {},
   "outputs": [],
   "source": []
  },
  {
   "cell_type": "code",
   "execution_count": 15,
   "metadata": {},
   "outputs": [],
   "source": [
    "def MD_encode(sequence,R, win = 5,step = 3):\n",
    "    i = 0\n",
    "    numerical_seq = []\n",
    "    while i < len(sequence)-win:\n",
    "        subseq = sequence[i:i+win-1]\n",
    "        distVec = []\n",
    "        for r in R:\n",
    "            c = sum(1 for c1,c2 in zip(r,subseq) if c1 != c2) - 2.5\n",
    "            distVec.append(c)\n",
    "        numerical_seq.append(distVec)\n",
    "        i = i+step\n",
    "    return(numerical_seq)"
   ]
  },
  {
   "cell_type": "code",
   "execution_count": 16,
   "metadata": {},
   "outputs": [],
   "source": [
    "num_promoters = []\n",
    "for prom in promoter_seqs:\n",
    "    num_seq = MD_encode(prom,decoded_R, win = 5, step = 3)\n",
    "    num_promoters.append(num_seq)\n",
    "num_nonpromoters = []\n",
    "for nonprom in nonpromoter_seqs:\n",
    "    num_seq = MD_encode(nonprom,decoded_R, win = 5, step = 3)\n",
    "    num_nonpromoters.append(num_seq)"
   ]
  },
  {
   "cell_type": "code",
   "execution_count": 17,
   "metadata": {},
   "outputs": [],
   "source": [
    "p1 = []\n",
    "p2 = []\n",
    "p3 = []\n",
    "p4 = []\n",
    "p5 = []\n",
    "for seq in num_promoters:\n",
    "    p1.append([n[0] for n in seq])\n",
    "    p2.append([n[1] for n in seq])\n",
    "    p3.append([n[2] for n in seq])\n",
    "    p4.append([n[3] for n in seq])\n",
    "    p5.append([n[4] for n in seq])\n",
    "\n",
    "        \n",
    "np1 = []\n",
    "np2 = []\n",
    "np3 = []\n",
    "np4 = []\n",
    "np5 = []\n",
    "for seq in num_nonpromoters:\n",
    "    np1.append([n[0] for n in seq])\n",
    "    np2.append([n[1] for n in seq])\n",
    "    np3.append([n[2] for n in seq])\n",
    "    np4.append([n[3] for n in seq])\n",
    "    np5.append([n[4] for n in seq])"
   ]
  },
  {
   "cell_type": "code",
   "execution_count": 21,
   "metadata": {},
   "outputs": [],
   "source": [
    "def extract_freq(data, num_feats = 1, k = 3):\n",
    "    feats = []\n",
    "    for row in data:\n",
    "        feat = []\n",
    "        for d in row:\n",
    "            n = len(d)\n",
    "            val = np.fft.fft(d)\n",
    "            val = val/n\n",
    "            freq = np.fft.fftfreq(n,1)\n",
    "            M = int(n/2)\n",
    "            val = np.abs(val[:M])\n",
    "            freq = freq[:M]\n",
    "            sort_ind = np.argsort(val)\n",
    "            for i in range(num_feats):\n",
    "                feat.append(freq[sort_ind[i]])\n",
    "                feat.append(val[sort_ind[i]])\n",
    "        feats.append(feat)\n",
    "    return(feats)\n",
    "        "
   ]
  },
  {
   "cell_type": "code",
   "execution_count": 22,
   "metadata": {},
   "outputs": [],
   "source": [
    "data = []\n",
    "labels = []\n",
    "for x in zip(p1,p2,p3,p4,p5):\n",
    "    data.append(x)\n",
    "    labels.append(1)\n",
    "for x in zip(np1,np2,np3,np4,np5):\n",
    "    data.append(x)\n",
    "    labels.append(0)\n",
    "features = extract_freq(data)"
   ]
  },
  {
   "cell_type": "code",
   "execution_count": 23,
   "metadata": {},
   "outputs": [
    {
     "name": "stdout",
     "output_type": "stream",
     "text": [
      "[0.19337016574585636, 0.002247407552399378, 0.07734806629834254, 0.0009160468498664929, 0.3701657458563536, 0.009789777098931847, 0.4917127071823204, 0.0010763396607662234, 0.4198895027624309, 0.002452036702539897]\n"
     ]
    }
   ],
   "source": [
    "print(features[0])"
   ]
  },
  {
   "cell_type": "code",
   "execution_count": 24,
   "metadata": {},
   "outputs": [],
   "source": [
    "with open('MD_freqFeats.tup', 'wb') as f:\n",
    "    pickle.dump((features,labels),f)"
   ]
  },
  {
   "cell_type": "code",
   "execution_count": 144,
   "metadata": {},
   "outputs": [
    {
     "data": {
      "image/png": "[encoded data removed]",
      "text/plain": [
       "<Figure size 432x288 with 1 Axes>"
      ]
     },
     "metadata": {
      "needs_background": "light"
     },
     "output_type": "display_data"
    }
   ],
   "source": [
    "plt.plot(p1[0],p2[0],'b-')\n",
    "plt.show()"
   ]
  },
  {
   "cell_type": "code",
   "execution_count": null,
   "metadata": {},
   "outputs": [],
   "source": []
  }
 ],
 "metadata": {
  "kernelspec": {
   "display_name": "Python 3",
   "language": "python",
   "name": "python3"
  },
  "language_info": {
   "codemirror_mode": {
    "name": "ipython",
    "version": 3
   },
   "file_extension": ".py",
   "mimetype": "text/x-python",
   "name": "python",
   "nbconvert_exporter": "python",
   "pygments_lexer": "ipython3",
   "version": "3.7.3"
  }
 },
 "nbformat": 4,
 "nbformat_minor": 2
}
